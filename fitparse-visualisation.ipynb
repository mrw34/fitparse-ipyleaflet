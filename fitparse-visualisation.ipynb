{
 "cells": [
  {
   "cell_type": "code",
   "execution_count": null,
   "metadata": {},
   "outputs": [],
   "source": [
    "!python -mpip install --quiet fitparse==1.2.0"
   ]
  },
  {
   "cell_type": "code",
   "execution_count": null,
   "metadata": {},
   "outputs": [],
   "source": [
    "from fitparse import FitFile\n",
    "\n",
    "\n",
    "def to_deg(semicircles):\n",
    "    return semicircles * (180 / 2 ** 31)\n",
    "\n",
    "\n",
    "fitfile = FitFile(\"5006234923.fit\")\n",
    "positions = [\n",
    "    (\n",
    "        to_deg(record.get_value(\"position_lat\")),\n",
    "        to_deg(record.get_value(\"position_long\")),\n",
    "    )\n",
    "    for record in fitfile.get_messages(\"record\")\n",
    "]\n",
    "session = next(fitfile.get_messages(name=\"session\"))\n",
    "timestamp = session.get_value(\"timestamp\")\n",
    "start_position = (\n",
    "    to_deg(session.get_value(\"start_position_lat\")),\n",
    "    to_deg(session.get_value(\"start_position_long\")),\n",
    ")\n",
    "total_distance = session.get_value(\"total_distance\")\n",
    "\n",
    "print(\"timestamp\", timestamp)\n",
    "print(\"start_position\", start_position)\n",
    "print(\"total_distance\", total_distance)"
   ]
  },
  {
   "cell_type": "code",
   "execution_count": null,
   "metadata": {},
   "outputs": [],
   "source": [
    "from statistics import mean\n",
    "\n",
    "lats, longs = zip(*positions)\n",
    "mean_position = (mean(lats), mean(longs))"
   ]
  },
  {
   "cell_type": "code",
   "execution_count": null,
   "metadata": {},
   "outputs": [],
   "source": [
    "import folium\n",
    "\n",
    "m = folium.Map(mean_position, zoom_start=14)\n",
    "for position in positions:\n",
    "    folium.Circle(position, radius=1).add_to(m)\n",
    "m"
   ]
  },
  {
   "cell_type": "code",
   "execution_count": null,
   "metadata": {},
   "outputs": [],
   "source": [
    "import altair as alt\n",
    "import pandas as pd\n",
    "\n",
    "data = pd.DataFrame(\n",
    "    (\n",
    "        (record.get_value(\"timestamp\"), record.get_value(\"speed\"))\n",
    "        for record in fitfile.get_messages(\"record\")\n",
    "    ),\n",
    "    columns=[\"timestamp\", \"speed\"],\n",
    ")\n",
    "alt.Chart(data).mark_line().encode(\n",
    "    x=\"timestamp\", y=\"speed\",\n",
    ")"
   ]
  }
 ],
 "metadata": {
  "kernelspec": {
   "display_name": "Python 3",
   "language": "python",
   "name": "python3"
  },
  "language_info": {
   "codemirror_mode": {
    "name": "ipython",
    "version": 3
   },
   "file_extension": ".py",
   "mimetype": "text/x-python",
   "name": "python",
   "nbconvert_exporter": "python",
   "pygments_lexer": "ipython3",
   "version": "3.8.5"
  }
 },
 "nbformat": 4,
 "nbformat_minor": 4
}
